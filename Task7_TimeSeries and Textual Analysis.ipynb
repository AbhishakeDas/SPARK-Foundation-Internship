{
 "cells": [
  {
   "cell_type": "markdown",
   "metadata": {},
   "source": [
    "# ABHISHAKE DAS"
   ]
  },
  {
   "cell_type": "markdown",
   "metadata": {},
   "source": [
    "## GRIP- Sparks Foundation\n",
    "### Data Science and Business Analytics\n",
    "**TASK 7: Stock Market Prediction using Numerical and Textual Analysis**"
   ]
  },
  {
   "cell_type": "markdown",
   "metadata": {},
   "source": [
    "● Objective: Create a hybrid model for stock price/performance prediction using numerical analysis of historical stock prices, and sentimental analysis of news headlines\n",
    "\n",
    "● Stock to analyze and predict - SENSEX (S&P BSE SENSEX)\n",
    "\n",
    "● Download historical stock prices from finance.yahoo.com"
   ]
  },
  {
   "cell_type": "markdown",
   "metadata": {},
   "source": [
    "#### I have used Auto-ARIMA model to make stock market prices predictions using the historical stock prices data. In the sentiment analysis model, I have made use of different machine learning algorithms-Random Forest Regressor, LightGBM, Adaboost and Xgboost- to make the predictions. "
   ]
  },
  {
   "cell_type": "markdown",
   "metadata": {},
   "source": [
    "# Time Series Analysis"
   ]
  },
  {
   "cell_type": "code",
   "execution_count": 1,
   "metadata": {},
   "outputs": [],
   "source": [
    "import os\n",
    "import warnings\n",
    "warnings.filterwarnings('ignore')\n",
    "import pandas as pd\n",
    "import numpy as np\n",
    "import matplotlib.pyplot as plt\n",
    "import itertools\n",
    "from statsmodels.tsa.stattools import adfuller, acf, pacf\n",
    "from statsmodels.tsa.arima_model import ARIMA\n",
    "import nltk\n",
    "import re\n",
    "from nltk.corpus import stopwords\n",
    "nltk.download('stopwords')\n",
    "nltk.download('vader_lexicon')\n",
    "from textblob import TextBlob\n",
    "from nltk.sentiment.vader import SentimentIntensityAnalyzer\n",
    "from nltk.stem.porter import PorterStemmer\n",
    "from sklearn.metrics import mean_squared_error\n",
    "from sklearn.model_selection import train_test_split\n",
    "from sklearn.ensemble import RandomForestRegressor, AdaBoostRegressor\n",
    "import xgboost \n",
    "import lightgbm"
   ]
  },
  {
   "cell_type": "code",
   "execution_count": 2,
   "metadata": {},
   "outputs": [],
   "source": [
    "df_prices = pd.read_csv('BSESN.csv')"
   ]
  },
  {
   "cell_type": "code",
   "execution_count": 3,
   "metadata": {},
   "outputs": [
    {
     "data": {
      "text/html": [
       "<div>\n",
       "<style scoped>\n",
       "    .dataframe tbody tr th:only-of-type {\n",
       "        vertical-align: middle;\n",
       "    }\n",
       "\n",
       "    .dataframe tbody tr th {\n",
       "        vertical-align: top;\n",
       "    }\n",
       "\n",
       "    .dataframe thead th {\n",
       "        text-align: right;\n",
       "    }\n",
       "</style>\n",
       "<table border=\"1\" class=\"dataframe\">\n",
       "  <thead>\n",
       "    <tr style=\"text-align: right;\">\n",
       "      <th></th>\n",
       "      <th>Date</th>\n",
       "      <th>Open</th>\n",
       "      <th>High</th>\n",
       "      <th>Low</th>\n",
       "      <th>Close</th>\n",
       "      <th>Adj Close</th>\n",
       "      <th>Volume</th>\n",
       "    </tr>\n",
       "  </thead>\n",
       "  <tbody>\n",
       "    <tr>\n",
       "      <th>0</th>\n",
       "      <td>2016-03-16</td>\n",
       "      <td>24537.609375</td>\n",
       "      <td>24706.849609</td>\n",
       "      <td>24354.550781</td>\n",
       "      <td>24682.480469</td>\n",
       "      <td>24682.480469</td>\n",
       "      <td>11000.0</td>\n",
       "    </tr>\n",
       "    <tr>\n",
       "      <th>1</th>\n",
       "      <td>2016-03-17</td>\n",
       "      <td>24852.179688</td>\n",
       "      <td>24948.300781</td>\n",
       "      <td>24576.519531</td>\n",
       "      <td>24677.369141</td>\n",
       "      <td>24677.369141</td>\n",
       "      <td>14600.0</td>\n",
       "    </tr>\n",
       "    <tr>\n",
       "      <th>2</th>\n",
       "      <td>2016-03-18</td>\n",
       "      <td>24729.410156</td>\n",
       "      <td>24986.939453</td>\n",
       "      <td>24681.640625</td>\n",
       "      <td>24952.740234</td>\n",
       "      <td>24952.740234</td>\n",
       "      <td>14100.0</td>\n",
       "    </tr>\n",
       "    <tr>\n",
       "      <th>3</th>\n",
       "      <td>2016-03-21</td>\n",
       "      <td>25007.560547</td>\n",
       "      <td>25327.449219</td>\n",
       "      <td>24988.269531</td>\n",
       "      <td>25285.369141</td>\n",
       "      <td>25285.369141</td>\n",
       "      <td>12400.0</td>\n",
       "    </tr>\n",
       "    <tr>\n",
       "      <th>4</th>\n",
       "      <td>2016-03-22</td>\n",
       "      <td>25331.009766</td>\n",
       "      <td>25381.330078</td>\n",
       "      <td>25083.699219</td>\n",
       "      <td>25330.490234</td>\n",
       "      <td>25330.490234</td>\n",
       "      <td>12000.0</td>\n",
       "    </tr>\n",
       "  </tbody>\n",
       "</table>\n",
       "</div>"
      ],
      "text/plain": [
       "         Date          Open          High           Low         Close  \\\n",
       "0  2016-03-16  24537.609375  24706.849609  24354.550781  24682.480469   \n",
       "1  2016-03-17  24852.179688  24948.300781  24576.519531  24677.369141   \n",
       "2  2016-03-18  24729.410156  24986.939453  24681.640625  24952.740234   \n",
       "3  2016-03-21  25007.560547  25327.449219  24988.269531  25285.369141   \n",
       "4  2016-03-22  25331.009766  25381.330078  25083.699219  25330.490234   \n",
       "\n",
       "      Adj Close   Volume  \n",
       "0  24682.480469  11000.0  \n",
       "1  24677.369141  14600.0  \n",
       "2  24952.740234  14100.0  \n",
       "3  25285.369141  12400.0  \n",
       "4  25330.490234  12000.0  "
      ]
     },
     "execution_count": 3,
     "metadata": {},
     "output_type": "execute_result"
    }
   ],
   "source": [
    "df_prices.head()"
   ]
  },
  {
   "cell_type": "code",
   "execution_count": 4,
   "metadata": {
    "scrolled": true
   },
   "outputs": [
    {
     "data": {
      "text/plain": [
       "8631"
      ]
     },
     "execution_count": 4,
     "metadata": {},
     "output_type": "execute_result"
    }
   ],
   "source": [
    "df_prices.size"
   ]
  },
  {
   "cell_type": "code",
   "execution_count": 5,
   "metadata": {},
   "outputs": [
    {
     "data": {
      "text/plain": [
       "(1233, 7)"
      ]
     },
     "execution_count": 5,
     "metadata": {},
     "output_type": "execute_result"
    }
   ],
   "source": [
    "df_prices.shape"
   ]
  },
  {
   "cell_type": "code",
   "execution_count": 6,
   "metadata": {
    "scrolled": true
   },
   "outputs": [
    {
     "name": "stdout",
     "output_type": "stream",
     "text": [
      "<class 'pandas.core.frame.DataFrame'>\n",
      "RangeIndex: 1233 entries, 0 to 1232\n",
      "Data columns (total 7 columns):\n",
      " #   Column     Non-Null Count  Dtype         \n",
      "---  ------     --------------  -----         \n",
      " 0   Date       1233 non-null   datetime64[ns]\n",
      " 1   Open       1228 non-null   float64       \n",
      " 2   High       1228 non-null   float64       \n",
      " 3   Low        1228 non-null   float64       \n",
      " 4   Close      1228 non-null   float64       \n",
      " 5   Adj Close  1228 non-null   float64       \n",
      " 6   Volume     1228 non-null   float64       \n",
      "dtypes: datetime64[ns](1), float64(6)\n",
      "memory usage: 67.6 KB\n"
     ]
    }
   ],
   "source": [
    "#Converting Date column to datetime datatype\n",
    "df_prices['Date'] = pd.to_datetime(df_prices['Date'])\n",
    "df_prices.info()"
   ]
  },
  {
   "cell_type": "code",
   "execution_count": 7,
   "metadata": {},
   "outputs": [],
   "source": [
    "df_prices.dropna(inplace = True)"
   ]
  },
  {
   "cell_type": "code",
   "execution_count": 8,
   "metadata": {},
   "outputs": [
    {
     "data": {
      "text/plain": [
       "Text(0, 0.5, 'Close')"
      ]
     },
     "execution_count": 8,
     "metadata": {},
     "output_type": "execute_result"
    },
    {
     "data": {
      "image/png": "[encoded data removed]",
      "text/plain": [
       "<Figure size 720x432 with 1 Axes>"
      ]
     },
     "metadata": {
      "needs_background": "light"
     },
     "output_type": "display_data"
    }
   ],
   "source": [
    "plt.figure(figsize=(10, 6))\n",
    "df_prices['Close'].plot()\n",
    "plt.ylabel('Close')"
   ]
  },
  {
   "cell_type": "code",
   "execution_count": 9,
   "metadata": {},
   "outputs": [
    {
     "data": {
      "text/plain": [
       "<matplotlib.legend.Legend at 0x2a9c089f0d0>"
      ]
     },
     "execution_count": 9,
     "metadata": {},
     "output_type": "execute_result"
    },
    {
     "data": {
      "image/png": "[encoded data removed]",
      "text/plain": [
       "<Figure size 720x432 with 1 Axes>"
      ]
     },
     "metadata": {
      "needs_background": "light"
     },
     "output_type": "display_data"
    }
   ],
   "source": [
    "#Plotting moving average\n",
    "close = df_prices['Close']\n",
    "ma = close.rolling(window = 50).mean()\n",
    "std = close.rolling(window = 50).std()\n",
    "\n",
    "plt.figure(figsize=(10, 6))\n",
    "df_prices['Close'].plot(color = 'b', label = 'Close')\n",
    "ma.plot(color = 'r', label = 'Rolling Mean')\n",
    "std.plot(label = 'Rolling Standard Deviation')\n",
    "plt.legend()"
   ]
  },
  {
   "cell_type": "code",
   "execution_count": 10,
   "metadata": {},
   "outputs": [
    {
     "data": {
      "text/plain": [
       "Text(0.5, 1.0, 'Returns')"
      ]
     },
     "execution_count": 10,
     "metadata": {},
     "output_type": "execute_result"
    },
    {
     "data": {
      "image/png": "[encoded data removed]",
      "text/plain": [
       "<Figure size 720x432 with 1 Axes>"
      ]
     },
     "metadata": {
      "needs_background": "light"
     },
     "output_type": "display_data"
    }
   ],
   "source": [
    "#Plotting returns\n",
    "returns = close / close.shift(1) - 1\n",
    "\n",
    "plt.figure(figsize = (10,6))\n",
    "returns.plot(label='Return', color = 'g')\n",
    "plt.title(\"Returns\")"
   ]
  },
  {
   "cell_type": "code",
   "execution_count": 12,
   "metadata": {},
   "outputs": [],
   "source": [
    "train = df_prices[:1000]\n",
    "test = df_prices[1000:]"
   ]
  },
  {
   "cell_type": "code",
   "execution_count": 13,
   "metadata": {},
   "outputs": [
    {
     "data": {
      "image/png": "[encoded data removed]",
      "text/plain": [
       "<Figure size 720x576 with 1 Axes>"
      ]
     },
     "metadata": {
      "needs_background": "light"
     },
     "output_type": "display_data"
    },
    {
     "name": "stdout",
     "output_type": "stream",
     "text": [
      "Results of dickey fuller test\n",
      "ADF Test Statistic : -2.1369202087970867\n",
      "p-value : 0.22993019012630556\n",
      "#Lags Used : 15\n",
      "Number of Observations Used : 984\n",
      "Weak evidence against null hypothesis, time series is non-stationary \n"
     ]
    }
   ],
   "source": [
    "#Stationarity test\n",
    "def test_stationarity(timeseries):\n",
    "\n",
    " #Determing rolling statistics\n",
    " rolmean = timeseries.rolling(20).mean()\n",
    " rolstd = timeseries.rolling(20).std()\n",
    "\n",
    " #Plot rolling statistics:\n",
    " plt.figure(figsize = (10,8))\n",
    " plt.plot(timeseries, color = 'y', label = 'original')\n",
    " plt.plot(rolmean, color = 'r', label = 'rolling mean')\n",
    " plt.plot(rolstd, color = 'b', label = 'rolling std')\n",
    " plt.xlabel('Date')\n",
    " plt.legend()\n",
    " plt.title('Rolling Mean and Standard Deviation',  fontsize = 20)\n",
    " plt.show(block = False)\n",
    " \n",
    " print('Results of dickey fuller test')\n",
    " result = adfuller(timeseries, autolag = 'AIC')\n",
    " labels = ['ADF Test Statistic','p-value','#Lags Used','Number of Observations Used']\n",
    " for value,label in zip(result, labels):\n",
    "   print(label+' : '+str(value) )\n",
    " if result[1] <= 0.05:\n",
    "   print(\"Strong evidence against the null hypothesis(Ho), reject the null hypothesis. Data is stationary\")\n",
    " else:\n",
    "   print(\"Weak evidence against null hypothesis, time series is non-stationary \")\n",
    "test_stationarity(train['Close'])"
   ]
  },
  {
   "cell_type": "code",
   "execution_count": 14,
   "metadata": {},
   "outputs": [
    {
     "data": {
      "text/plain": [
       "[<matplotlib.lines.Line2D at 0x2a9c08e3550>]"
      ]
     },
     "execution_count": 14,
     "metadata": {},
     "output_type": "execute_result"
    },
    {
     "data": {
      "image/png": "[encoded data removed]",
      "text/plain": [
       "<Figure size 720x432 with 1 Axes>"
      ]
     },
     "metadata": {
      "needs_background": "light"
     },
     "output_type": "display_data"
    }
   ],
   "source": [
    "train_log = np.log(train['Close']) \n",
    "test_log = np.log(test['Close'])\n",
    "\n",
    "mav = train_log.rolling(24).mean() \n",
    "plt.figure(figsize = (10,6))\n",
    "plt.plot(train_log) \n",
    "plt.plot(mav, color = 'red')"
   ]
  },
  {
   "cell_type": "code",
   "execution_count": 15,
   "metadata": {
    "scrolled": true
   },
   "outputs": [
    {
     "data": {
      "image/png": "[encoded data removed]",
      "text/plain": [
       "<Figure size 720x576 with 1 Axes>"
      ]
     },
     "metadata": {
      "needs_background": "light"
     },
     "output_type": "display_data"
    },
    {
     "name": "stdout",
     "output_type": "stream",
     "text": [
      "Results of dickey fuller test\n",
      "ADF Test Statistic : -2.2242329154977534\n",
      "p-value : 0.19756814768979614\n",
      "#Lags Used : 15\n",
      "Number of Observations Used : 984\n",
      "Weak evidence against null hypothesis, time series is non-stationary \n"
     ]
    }
   ],
   "source": [
    "train_log.dropna(inplace = True)\n",
    "test_log.dropna(inplace = True)\n",
    "\n",
    "test_stationarity(train_log)"
   ]
  },
  {
   "cell_type": "code",
   "execution_count": 16,
   "metadata": {},
   "outputs": [
    {
     "data": {
      "image/png": "[encoded data removed]",
      "text/plain": [
       "<Figure size 720x576 with 1 Axes>"
      ]
     },
     "metadata": {
      "needs_background": "light"
     },
     "output_type": "display_data"
    },
    {
     "name": "stdout",
     "output_type": "stream",
     "text": [
      "Results of dickey fuller test\n",
      "ADF Test Statistic : -5.649164366259228\n",
      "p-value : 9.952084191947006e-07\n",
      "#Lags Used : 15\n",
      "Number of Observations Used : 961\n",
      "Strong evidence against the null hypothesis(Ho), reject the null hypothesis. Data is stationary\n"
     ]
    }
   ],
   "source": [
    "train_log_diff = train_log - mav\n",
    "train_log_diff.dropna(inplace = True)\n",
    "\n",
    "test_stationarity(train_log_diff)"
   ]
  },
  {
   "cell_type": "code",
   "execution_count": 17,
   "metadata": {
    "scrolled": true
   },
   "outputs": [
    {
     "name": "stdout",
     "output_type": "stream",
     "text": [
      "Performing stepwise search to minimize aic\n",
      " ARIMA(2,1,2)(0,0,0)[0] intercept   : AIC=-6092.799, Time=0.88 sec\n",
      " ARIMA(0,1,0)(0,0,0)[0] intercept   : AIC=-6104.039, Time=0.09 sec\n",
      " ARIMA(1,1,0)(0,0,0)[0] intercept   : AIC=-6108.980, Time=0.28 sec\n",
      " ARIMA(0,1,1)(0,0,0)[0] intercept   : AIC=-6108.179, Time=0.16 sec\n",
      " ARIMA(0,1,0)(0,0,0)[0]             : AIC=-6105.681, Time=0.20 sec\n",
      " ARIMA(2,1,0)(0,0,0)[0] intercept   : AIC=-6109.815, Time=0.23 sec\n",
      " ARIMA(3,1,0)(0,0,0)[0] intercept   : AIC=-6109.305, Time=0.97 sec\n",
      " ARIMA(2,1,1)(0,0,0)[0] intercept   : AIC=-6111.189, Time=0.14 sec\n",
      " ARIMA(1,1,1)(0,0,0)[0] intercept   : AIC=-6108.183, Time=0.28 sec\n",
      " ARIMA(3,1,1)(0,0,0)[0] intercept   : AIC=-6107.257, Time=0.40 sec\n",
      " ARIMA(1,1,2)(0,0,0)[0] intercept   : AIC=-6104.956, Time=0.35 sec\n",
      " ARIMA(3,1,2)(0,0,0)[0] intercept   : AIC=-6105.043, Time=0.77 sec\n",
      " ARIMA(2,1,1)(0,0,0)[0]             : AIC=-6112.924, Time=0.07 sec\n",
      " ARIMA(1,1,1)(0,0,0)[0]             : AIC=-6109.772, Time=0.26 sec\n",
      " ARIMA(2,1,0)(0,0,0)[0]             : AIC=-6111.437, Time=0.18 sec\n",
      " ARIMA(3,1,1)(0,0,0)[0]             : AIC=-6108.904, Time=0.17 sec\n",
      " ARIMA(2,1,2)(0,0,0)[0]             : AIC=-6107.772, Time=0.61 sec\n",
      " ARIMA(1,1,0)(0,0,0)[0]             : AIC=-6110.560, Time=0.07 sec\n",
      " ARIMA(1,1,2)(0,0,0)[0]             : AIC=-6106.095, Time=0.30 sec\n",
      " ARIMA(3,1,0)(0,0,0)[0]             : AIC=-6110.953, Time=0.09 sec\n",
      " ARIMA(3,1,2)(0,0,0)[0]             : AIC=-6106.672, Time=0.51 sec\n",
      "\n",
      "Best model:  ARIMA(2,1,1)(0,0,0)[0]          \n",
      "Total fit time: 7.144 seconds\n"
     ]
    }
   ],
   "source": [
    "#Using auto arima to make predictions using log data\n",
    "from pmdarima import auto_arima\n",
    "model = auto_arima(train_log, trace = True, error_action = 'ignore', suppress_warnings = True)\n",
    "model.fit(train_log)\n",
    "predictions = model.predict(n_periods = len(test))\n",
    "predictions = pd.DataFrame(predictions,index = test_log.index,columns=['Prediction'])"
   ]
  },
  {
   "cell_type": "code",
   "execution_count": 18,
   "metadata": {
    "scrolled": true
   },
   "outputs": [
    {
     "data": {
      "text/plain": [
       "Text(0, 0.5, 'Actual Stock Price')"
      ]
     },
     "execution_count": 18,
     "metadata": {},
     "output_type": "execute_result"
    },
    {
     "data": {
      "image/png": "[encoded data removed]",
      "text/plain": [
       "<Figure size 432x288 with 1 Axes>"
      ]
     },
     "metadata": {
      "needs_background": "light"
     },
     "output_type": "display_data"
    }
   ],
   "source": [
    "plt.plot(train_log, label='Train')\n",
    "plt.plot(test_log, label='Test')\n",
    "plt.plot(predictions, label='Prediction')\n",
    "plt.title('BSESN Stock Price Prediction')\n",
    "plt.xlabel('Time')\n",
    "plt.ylabel('Actual Stock Price')"
   ]
  },
  {
   "cell_type": "code",
   "execution_count": 19,
   "metadata": {},
   "outputs": [
    {
     "name": "stdout",
     "output_type": "stream",
     "text": [
      "RMSE :  0.3115516184512361\n"
     ]
    }
   ],
   "source": [
    "#Calculating error\n",
    "rms = np.sqrt(mean_squared_error(test_log,predictions))\n",
    "print(\"RMSE : \", rms)"
   ]
  },
  {
   "cell_type": "markdown",
   "metadata": {},
   "source": [
    "# Textual Analysis"
   ]
  },
  {
   "cell_type": "code",
   "execution_count": 20,
   "metadata": {
    "scrolled": true
   },
   "outputs": [
    {
     "data": {
      "text/html": [
       "<div>\n",
       "<style scoped>\n",
       "    .dataframe tbody tr th:only-of-type {\n",
       "        vertical-align: middle;\n",
       "    }\n",
       "\n",
       "    .dataframe tbody tr th {\n",
       "        vertical-align: top;\n",
       "    }\n",
       "\n",
       "    .dataframe thead th {\n",
       "        text-align: right;\n",
       "    }\n",
       "</style>\n",
       "<table border=\"1\" class=\"dataframe\">\n",
       "  <thead>\n",
       "    <tr style=\"text-align: right;\">\n",
       "      <th></th>\n",
       "      <th>Date</th>\n",
       "      <th>Category</th>\n",
       "      <th>News</th>\n",
       "    </tr>\n",
       "  </thead>\n",
       "  <tbody>\n",
       "    <tr>\n",
       "      <th>0</th>\n",
       "      <td>publish_date</td>\n",
       "      <td>headline_category</td>\n",
       "      <td>headline_text</td>\n",
       "    </tr>\n",
       "    <tr>\n",
       "      <th>1</th>\n",
       "      <td>20010102</td>\n",
       "      <td>unknown</td>\n",
       "      <td>Status quo will not be disturbed at Ayodhya; s...</td>\n",
       "    </tr>\n",
       "    <tr>\n",
       "      <th>2</th>\n",
       "      <td>20010102</td>\n",
       "      <td>unknown</td>\n",
       "      <td>Fissures in Hurriyat over Pak visit</td>\n",
       "    </tr>\n",
       "    <tr>\n",
       "      <th>3</th>\n",
       "      <td>20010102</td>\n",
       "      <td>unknown</td>\n",
       "      <td>America's unwanted heading for India?</td>\n",
       "    </tr>\n",
       "    <tr>\n",
       "      <th>4</th>\n",
       "      <td>20010102</td>\n",
       "      <td>unknown</td>\n",
       "      <td>For bigwigs; it is destination Goa</td>\n",
       "    </tr>\n",
       "    <tr>\n",
       "      <th>...</th>\n",
       "      <td>...</td>\n",
       "      <td>...</td>\n",
       "      <td>...</td>\n",
       "    </tr>\n",
       "    <tr>\n",
       "      <th>3424063</th>\n",
       "      <td>20201231</td>\n",
       "      <td>city.jodhpur</td>\n",
       "      <td>Covid-19: Despite dip in cases; Rajasthan amon...</td>\n",
       "    </tr>\n",
       "    <tr>\n",
       "      <th>3424064</th>\n",
       "      <td>20201231</td>\n",
       "      <td>city.udaipur</td>\n",
       "      <td>Covid-19: Despite dip in cases; Rajasthan amon...</td>\n",
       "    </tr>\n",
       "    <tr>\n",
       "      <th>3424065</th>\n",
       "      <td>20201231</td>\n",
       "      <td>city.ajmer</td>\n",
       "      <td>Covid-19: Despite dip in cases; Rajasthan amon...</td>\n",
       "    </tr>\n",
       "    <tr>\n",
       "      <th>3424066</th>\n",
       "      <td>20201231</td>\n",
       "      <td>removed</td>\n",
       "      <td>Govt extends deadline for use of FASTag till F...</td>\n",
       "    </tr>\n",
       "    <tr>\n",
       "      <th>3424067</th>\n",
       "      <td>20201231</td>\n",
       "      <td>entertainment.bengali.movies.news</td>\n",
       "      <td>Celebs plan to party safely and responsibly on...</td>\n",
       "    </tr>\n",
       "  </tbody>\n",
       "</table>\n",
       "<p>3424068 rows × 3 columns</p>\n",
       "</div>"
      ],
      "text/plain": [
       "                 Date                           Category  \\\n",
       "0        publish_date                  headline_category   \n",
       "1            20010102                            unknown   \n",
       "2            20010102                            unknown   \n",
       "3            20010102                            unknown   \n",
       "4            20010102                            unknown   \n",
       "...               ...                                ...   \n",
       "3424063      20201231                       city.jodhpur   \n",
       "3424064      20201231                       city.udaipur   \n",
       "3424065      20201231                         city.ajmer   \n",
       "3424066      20201231                            removed   \n",
       "3424067      20201231  entertainment.bengali.movies.news   \n",
       "\n",
       "                                                      News  \n",
       "0                                            headline_text  \n",
       "1        Status quo will not be disturbed at Ayodhya; s...  \n",
       "2                      Fissures in Hurriyat over Pak visit  \n",
       "3                    America's unwanted heading for India?  \n",
       "4                       For bigwigs; it is destination Goa  \n",
       "...                                                    ...  \n",
       "3424063  Covid-19: Despite dip in cases; Rajasthan amon...  \n",
       "3424064  Covid-19: Despite dip in cases; Rajasthan amon...  \n",
       "3424065  Covid-19: Despite dip in cases; Rajasthan amon...  \n",
       "3424066  Govt extends deadline for use of FASTag till F...  \n",
       "3424067  Celebs plan to party safely and responsibly on...  \n",
       "\n",
       "[3424068 rows x 3 columns]"
      ]
     },
     "execution_count": 20,
     "metadata": {},
     "output_type": "execute_result"
    }
   ],
   "source": [
    "cols = ['Date','Category','News']\n",
    "df_news = pd.read_csv('india-news-headlines.csv', names = cols)\n",
    "df_news"
   ]
  },
  {
   "cell_type": "code",
   "execution_count": 21,
   "metadata": {},
   "outputs": [
    {
     "name": "stdout",
     "output_type": "stream",
     "text": [
      "<class 'pandas.core.frame.DataFrame'>\n",
      "Int64Index: 3424067 entries, 1 to 3424067\n",
      "Data columns (total 2 columns):\n",
      " #   Column  Dtype \n",
      "---  ------  ----- \n",
      " 0   Date    object\n",
      " 1   News    object\n",
      "dtypes: object(2)\n",
      "memory usage: 78.4+ MB\n"
     ]
    }
   ],
   "source": [
    "df_news.drop(0, inplace=True)\n",
    "df_news.drop('Category', axis = 1, inplace=True)\n",
    "df_news.info()"
   ]
  },
  {
   "cell_type": "code",
   "execution_count": 22,
   "metadata": {},
   "outputs": [
    {
     "data": {
      "text/html": [
       "<div>\n",
       "<style scoped>\n",
       "    .dataframe tbody tr th:only-of-type {\n",
       "        vertical-align: middle;\n",
       "    }\n",
       "\n",
       "    .dataframe tbody tr th {\n",
       "        vertical-align: top;\n",
       "    }\n",
       "\n",
       "    .dataframe thead th {\n",
       "        text-align: right;\n",
       "    }\n",
       "</style>\n",
       "<table border=\"1\" class=\"dataframe\">\n",
       "  <thead>\n",
       "    <tr style=\"text-align: right;\">\n",
       "      <th></th>\n",
       "      <th>Date</th>\n",
       "      <th>News</th>\n",
       "    </tr>\n",
       "  </thead>\n",
       "  <tbody>\n",
       "    <tr>\n",
       "      <th>1</th>\n",
       "      <td>2001-01-02</td>\n",
       "      <td>Status quo will not be disturbed at Ayodhya; s...</td>\n",
       "    </tr>\n",
       "    <tr>\n",
       "      <th>2</th>\n",
       "      <td>2001-01-02</td>\n",
       "      <td>Fissures in Hurriyat over Pak visit</td>\n",
       "    </tr>\n",
       "    <tr>\n",
       "      <th>3</th>\n",
       "      <td>2001-01-02</td>\n",
       "      <td>America's unwanted heading for India?</td>\n",
       "    </tr>\n",
       "    <tr>\n",
       "      <th>4</th>\n",
       "      <td>2001-01-02</td>\n",
       "      <td>For bigwigs; it is destination Goa</td>\n",
       "    </tr>\n",
       "    <tr>\n",
       "      <th>5</th>\n",
       "      <td>2001-01-02</td>\n",
       "      <td>Extra buses to clear tourist traffic</td>\n",
       "    </tr>\n",
       "    <tr>\n",
       "      <th>...</th>\n",
       "      <td>...</td>\n",
       "      <td>...</td>\n",
       "    </tr>\n",
       "    <tr>\n",
       "      <th>3424063</th>\n",
       "      <td>2020-12-31</td>\n",
       "      <td>Covid-19: Despite dip in cases; Rajasthan amon...</td>\n",
       "    </tr>\n",
       "    <tr>\n",
       "      <th>3424064</th>\n",
       "      <td>2020-12-31</td>\n",
       "      <td>Covid-19: Despite dip in cases; Rajasthan amon...</td>\n",
       "    </tr>\n",
       "    <tr>\n",
       "      <th>3424065</th>\n",
       "      <td>2020-12-31</td>\n",
       "      <td>Covid-19: Despite dip in cases; Rajasthan amon...</td>\n",
       "    </tr>\n",
       "    <tr>\n",
       "      <th>3424066</th>\n",
       "      <td>2020-12-31</td>\n",
       "      <td>Govt extends deadline for use of FASTag till F...</td>\n",
       "    </tr>\n",
       "    <tr>\n",
       "      <th>3424067</th>\n",
       "      <td>2020-12-31</td>\n",
       "      <td>Celebs plan to party safely and responsibly on...</td>\n",
       "    </tr>\n",
       "  </tbody>\n",
       "</table>\n",
       "<p>3424067 rows × 2 columns</p>\n",
       "</div>"
      ],
      "text/plain": [
       "              Date                                               News\n",
       "1       2001-01-02  Status quo will not be disturbed at Ayodhya; s...\n",
       "2       2001-01-02                Fissures in Hurriyat over Pak visit\n",
       "3       2001-01-02              America's unwanted heading for India?\n",
       "4       2001-01-02                 For bigwigs; it is destination Goa\n",
       "5       2001-01-02               Extra buses to clear tourist traffic\n",
       "...            ...                                                ...\n",
       "3424063 2020-12-31  Covid-19: Despite dip in cases; Rajasthan amon...\n",
       "3424064 2020-12-31  Covid-19: Despite dip in cases; Rajasthan amon...\n",
       "3424065 2020-12-31  Covid-19: Despite dip in cases; Rajasthan amon...\n",
       "3424066 2020-12-31  Govt extends deadline for use of FASTag till F...\n",
       "3424067 2020-12-31  Celebs plan to party safely and responsibly on...\n",
       "\n",
       "[3424067 rows x 2 columns]"
      ]
     },
     "execution_count": 22,
     "metadata": {},
     "output_type": "execute_result"
    }
   ],
   "source": [
    "#Converting data type of Date column \n",
    "df_news['Date'] = pd.to_datetime(df_news['Date'],format= '%Y%m%d')\n",
    "df_news"
   ]
  },
  {
   "cell_type": "code",
   "execution_count": 23,
   "metadata": {},
   "outputs": [
    {
     "data": {
      "text/html": [
       "<div>\n",
       "<style scoped>\n",
       "    .dataframe tbody tr th:only-of-type {\n",
       "        vertical-align: middle;\n",
       "    }\n",
       "\n",
       "    .dataframe tbody tr th {\n",
       "        vertical-align: top;\n",
       "    }\n",
       "\n",
       "    .dataframe thead th {\n",
       "        text-align: right;\n",
       "    }\n",
       "</style>\n",
       "<table border=\"1\" class=\"dataframe\">\n",
       "  <thead>\n",
       "    <tr style=\"text-align: right;\">\n",
       "      <th></th>\n",
       "      <th>Date</th>\n",
       "      <th>News</th>\n",
       "    </tr>\n",
       "  </thead>\n",
       "  <tbody>\n",
       "    <tr>\n",
       "      <th>0</th>\n",
       "      <td>2001-01-02</td>\n",
       "      <td>Status quo will not be disturbed at Ayodhya; s...</td>\n",
       "    </tr>\n",
       "    <tr>\n",
       "      <th>1</th>\n",
       "      <td>2001-01-03</td>\n",
       "      <td>Powerless north India gropes in the dark Think...</td>\n",
       "    </tr>\n",
       "    <tr>\n",
       "      <th>2</th>\n",
       "      <td>2001-01-04</td>\n",
       "      <td>The string that pulled Stephen Hawking to Indi...</td>\n",
       "    </tr>\n",
       "    <tr>\n",
       "      <th>3</th>\n",
       "      <td>2001-01-05</td>\n",
       "      <td>Light combat craft takes India into club class...</td>\n",
       "    </tr>\n",
       "    <tr>\n",
       "      <th>4</th>\n",
       "      <td>2001-01-06</td>\n",
       "      <td>Light combat craft takes India into club class...</td>\n",
       "    </tr>\n",
       "    <tr>\n",
       "      <th>...</th>\n",
       "      <td>...</td>\n",
       "      <td>...</td>\n",
       "    </tr>\n",
       "    <tr>\n",
       "      <th>7257</th>\n",
       "      <td>2020-12-27</td>\n",
       "      <td>#BigInterview! Dhritiman Chatterjee: Nobody da...</td>\n",
       "    </tr>\n",
       "    <tr>\n",
       "      <th>7258</th>\n",
       "      <td>2020-12-28</td>\n",
       "      <td>Horoscope Today; 28 December 2020: Check astro...</td>\n",
       "    </tr>\n",
       "    <tr>\n",
       "      <th>7259</th>\n",
       "      <td>2020-12-29</td>\n",
       "      <td>Man recovers charred remains of 'thief' from h...</td>\n",
       "    </tr>\n",
       "    <tr>\n",
       "      <th>7260</th>\n",
       "      <td>2020-12-30</td>\n",
       "      <td>Numerology Readings 30 December 2020: Predicti...</td>\n",
       "    </tr>\n",
       "    <tr>\n",
       "      <th>7261</th>\n",
       "      <td>2020-12-31</td>\n",
       "      <td>Horoscope Today; 31 December 2020: Check astro...</td>\n",
       "    </tr>\n",
       "  </tbody>\n",
       "</table>\n",
       "<p>7262 rows × 2 columns</p>\n",
       "</div>"
      ],
      "text/plain": [
       "           Date                                               News\n",
       "0    2001-01-02  Status quo will not be disturbed at Ayodhya; s...\n",
       "1    2001-01-03  Powerless north India gropes in the dark Think...\n",
       "2    2001-01-04  The string that pulled Stephen Hawking to Indi...\n",
       "3    2001-01-05  Light combat craft takes India into club class...\n",
       "4    2001-01-06  Light combat craft takes India into club class...\n",
       "...         ...                                                ...\n",
       "7257 2020-12-27  #BigInterview! Dhritiman Chatterjee: Nobody da...\n",
       "7258 2020-12-28  Horoscope Today; 28 December 2020: Check astro...\n",
       "7259 2020-12-29  Man recovers charred remains of 'thief' from h...\n",
       "7260 2020-12-30  Numerology Readings 30 December 2020: Predicti...\n",
       "7261 2020-12-31  Horoscope Today; 31 December 2020: Check astro...\n",
       "\n",
       "[7262 rows x 2 columns]"
      ]
     },
     "execution_count": 23,
     "metadata": {},
     "output_type": "execute_result"
    }
   ],
   "source": [
    "#Grouping the headlines for each day\n",
    "df_news['News'] = df_news.groupby(['Date']).transform(lambda x : ' '.join(x)) \n",
    "df_news = df_news.drop_duplicates() \n",
    "df_news.reset_index(inplace = True, drop = True)\n",
    "df_news"
   ]
  },
  {
   "cell_type": "code",
   "execution_count": 24,
   "metadata": {
    "scrolled": true
   },
   "outputs": [
    {
     "data": {
      "text/plain": [
       "0       Status quo will not be disturbed at Ayodhya; s...\n",
       "1       Powerless north India gropes in the dark Think...\n",
       "2       The string that pulled Stephen Hawking to Indi...\n",
       "3       Light combat craft takes India into club class...\n",
       "4       Light combat craft takes India into club class...\n",
       "                              ...                        \n",
       "7257    #BigInterview! Dhritiman Chatterjee: Nobody da...\n",
       "7258    Horoscope Today; 28 December 2020: Check astro...\n",
       "7259    Man recovers charred remains of 'thief' from h...\n",
       "7260    Numerology Readings 30 December 2020: Predicti...\n",
       "7261    Horoscope Today; 31 December 2020: Check astro...\n",
       "Name: News, Length: 7262, dtype: object"
      ]
     },
     "execution_count": 24,
     "metadata": {},
     "output_type": "execute_result"
    }
   ],
   "source": [
    "df_news['News']"
   ]
  },
  {
   "cell_type": "code",
   "execution_count": 32,
   "metadata": {},
   "outputs": [],
   "source": [
    "#Cleaning headlines\n",
    "c = []\n",
    "ps=PorterStemmer()\n",
    "for i in range(0,len(df_news['News'])):\n",
    "    news = re.sub('[^a-zA-Z]',' ',df_news['News'][i])\n",
    "    news = news.lower()\n",
    "    news = news.split()\n",
    "    news = [ps.stem(word) for word in news if not word in set(stopwords.words('english'))]\n",
    "    news=' '.join(news)\n",
    "    c.append(news)"
   ]
  },
  {
   "cell_type": "code",
   "execution_count": 33,
   "metadata": {
    "scrolled": true
   },
   "outputs": [
    {
     "data": {
      "text/html": [
       "<div>\n",
       "<style scoped>\n",
       "    .dataframe tbody tr th:only-of-type {\n",
       "        vertical-align: middle;\n",
       "    }\n",
       "\n",
       "    .dataframe tbody tr th {\n",
       "        vertical-align: top;\n",
       "    }\n",
       "\n",
       "    .dataframe thead th {\n",
       "        text-align: right;\n",
       "    }\n",
       "</style>\n",
       "<table border=\"1\" class=\"dataframe\">\n",
       "  <thead>\n",
       "    <tr style=\"text-align: right;\">\n",
       "      <th></th>\n",
       "      <th>Date</th>\n",
       "      <th>News</th>\n",
       "      <th>Subjectivity</th>\n",
       "      <th>Polarity</th>\n",
       "    </tr>\n",
       "  </thead>\n",
       "  <tbody>\n",
       "    <tr>\n",
       "      <th>0</th>\n",
       "      <td>2001-01-02</td>\n",
       "      <td>statu quo disturb ayodhya say vajpaye fissur h...</td>\n",
       "      <td>0.286859</td>\n",
       "      <td>0.143590</td>\n",
       "    </tr>\n",
       "    <tr>\n",
       "      <th>1</th>\n",
       "      <td>2001-01-03</td>\n",
       "      <td>powerless north india grope dark think laxman ...</td>\n",
       "      <td>0.392857</td>\n",
       "      <td>0.089286</td>\n",
       "    </tr>\n",
       "    <tr>\n",
       "      <th>2</th>\n",
       "      <td>2001-01-04</td>\n",
       "      <td>string pull stephen hawk india vajpaye give bi...</td>\n",
       "      <td>0.445360</td>\n",
       "      <td>0.093039</td>\n",
       "    </tr>\n",
       "    <tr>\n",
       "      <th>3</th>\n",
       "      <td>2001-01-05</td>\n",
       "      <td>light combat craft take india club class hawk ...</td>\n",
       "      <td>0.480553</td>\n",
       "      <td>0.264024</td>\n",
       "    </tr>\n",
       "    <tr>\n",
       "      <th>4</th>\n",
       "      <td>2001-01-06</td>\n",
       "      <td>light combat craft take india club class hawk ...</td>\n",
       "      <td>0.439394</td>\n",
       "      <td>0.248485</td>\n",
       "    </tr>\n",
       "    <tr>\n",
       "      <th>...</th>\n",
       "      <td>...</td>\n",
       "      <td>...</td>\n",
       "      <td>...</td>\n",
       "      <td>...</td>\n",
       "    </tr>\n",
       "    <tr>\n",
       "      <th>7257</th>\n",
       "      <td>2020-12-27</td>\n",
       "      <td>biginterview dhritiman chatterje nobodi dare m...</td>\n",
       "      <td>0.392082</td>\n",
       "      <td>0.042978</td>\n",
       "    </tr>\n",
       "    <tr>\n",
       "      <th>7258</th>\n",
       "      <td>2020-12-28</td>\n",
       "      <td>horoscop today decemb check astrolog predict a...</td>\n",
       "      <td>0.409973</td>\n",
       "      <td>0.071405</td>\n",
       "    </tr>\n",
       "    <tr>\n",
       "      <th>7259</th>\n",
       "      <td>2020-12-29</td>\n",
       "      <td>man recov char remain thief burnt shop dump be...</td>\n",
       "      <td>0.415684</td>\n",
       "      <td>0.060775</td>\n",
       "    </tr>\n",
       "    <tr>\n",
       "      <th>7260</th>\n",
       "      <td>2020-12-30</td>\n",
       "      <td>numerolog read decemb predict lucki colour luc...</td>\n",
       "      <td>0.436863</td>\n",
       "      <td>0.046930</td>\n",
       "    </tr>\n",
       "    <tr>\n",
       "      <th>7261</th>\n",
       "      <td>2020-12-31</td>\n",
       "      <td>horoscop today decemb check astrolog predict a...</td>\n",
       "      <td>0.408454</td>\n",
       "      <td>0.091829</td>\n",
       "    </tr>\n",
       "  </tbody>\n",
       "</table>\n",
       "<p>7262 rows × 4 columns</p>\n",
       "</div>"
      ],
      "text/plain": [
       "           Date                                               News  \\\n",
       "0    2001-01-02  statu quo disturb ayodhya say vajpaye fissur h...   \n",
       "1    2001-01-03  powerless north india grope dark think laxman ...   \n",
       "2    2001-01-04  string pull stephen hawk india vajpaye give bi...   \n",
       "3    2001-01-05  light combat craft take india club class hawk ...   \n",
       "4    2001-01-06  light combat craft take india club class hawk ...   \n",
       "...         ...                                                ...   \n",
       "7257 2020-12-27  biginterview dhritiman chatterje nobodi dare m...   \n",
       "7258 2020-12-28  horoscop today decemb check astrolog predict a...   \n",
       "7259 2020-12-29  man recov char remain thief burnt shop dump be...   \n",
       "7260 2020-12-30  numerolog read decemb predict lucki colour luc...   \n",
       "7261 2020-12-31  horoscop today decemb check astrolog predict a...   \n",
       "\n",
       "      Subjectivity  Polarity  \n",
       "0         0.286859  0.143590  \n",
       "1         0.392857  0.089286  \n",
       "2         0.445360  0.093039  \n",
       "3         0.480553  0.264024  \n",
       "4         0.439394  0.248485  \n",
       "...            ...       ...  \n",
       "7257      0.392082  0.042978  \n",
       "7258      0.409973  0.071405  \n",
       "7259      0.415684  0.060775  \n",
       "7260      0.436863  0.046930  \n",
       "7261      0.408454  0.091829  \n",
       "\n",
       "[7262 rows x 4 columns]"
      ]
     },
     "execution_count": 33,
     "metadata": {},
     "output_type": "execute_result"
    }
   ],
   "source": [
    "df_news['News'] = pd.Series(c)\n",
    "df_news"
   ]
  },
  {
   "cell_type": "code",
   "execution_count": 34,
   "metadata": {},
   "outputs": [],
   "source": [
    "#Functions to get the subjectivity and polarity\n",
    "def getSubjectivity(text):\n",
    "    return TextBlob(text).sentiment.subjectivity\n",
    "\n",
    "def getPolarity(text):\n",
    "    return  TextBlob(text).sentiment.polarity"
   ]
  },
  {
   "cell_type": "code",
   "execution_count": 35,
   "metadata": {},
   "outputs": [
    {
     "data": {
      "text/html": [
       "<div>\n",
       "<style scoped>\n",
       "    .dataframe tbody tr th:only-of-type {\n",
       "        vertical-align: middle;\n",
       "    }\n",
       "\n",
       "    .dataframe tbody tr th {\n",
       "        vertical-align: top;\n",
       "    }\n",
       "\n",
       "    .dataframe thead th {\n",
       "        text-align: right;\n",
       "    }\n",
       "</style>\n",
       "<table border=\"1\" class=\"dataframe\">\n",
       "  <thead>\n",
       "    <tr style=\"text-align: right;\">\n",
       "      <th></th>\n",
       "      <th>Date</th>\n",
       "      <th>News</th>\n",
       "      <th>Subjectivity</th>\n",
       "      <th>Polarity</th>\n",
       "    </tr>\n",
       "  </thead>\n",
       "  <tbody>\n",
       "    <tr>\n",
       "      <th>0</th>\n",
       "      <td>2001-01-02</td>\n",
       "      <td>statu quo disturb ayodhya say vajpaye fissur h...</td>\n",
       "      <td>0.298148</td>\n",
       "      <td>0.099074</td>\n",
       "    </tr>\n",
       "    <tr>\n",
       "      <th>1</th>\n",
       "      <td>2001-01-03</td>\n",
       "      <td>powerless north india grope dark think laxman ...</td>\n",
       "      <td>0.429167</td>\n",
       "      <td>0.025000</td>\n",
       "    </tr>\n",
       "    <tr>\n",
       "      <th>2</th>\n",
       "      <td>2001-01-04</td>\n",
       "      <td>string pull stephen hawk india vajpaye give bi...</td>\n",
       "      <td>0.475140</td>\n",
       "      <td>0.032481</td>\n",
       "    </tr>\n",
       "    <tr>\n",
       "      <th>3</th>\n",
       "      <td>2001-01-05</td>\n",
       "      <td>light combat craft take india club class hawk ...</td>\n",
       "      <td>0.458412</td>\n",
       "      <td>0.296404</td>\n",
       "    </tr>\n",
       "    <tr>\n",
       "      <th>4</th>\n",
       "      <td>2001-01-06</td>\n",
       "      <td>light combat craft take india club class hawk ...</td>\n",
       "      <td>0.425758</td>\n",
       "      <td>0.389394</td>\n",
       "    </tr>\n",
       "    <tr>\n",
       "      <th>...</th>\n",
       "      <td>...</td>\n",
       "      <td>...</td>\n",
       "      <td>...</td>\n",
       "      <td>...</td>\n",
       "    </tr>\n",
       "    <tr>\n",
       "      <th>7257</th>\n",
       "      <td>2020-12-27</td>\n",
       "      <td>biginterview dhritiman chatterje nobodi dare m...</td>\n",
       "      <td>0.366994</td>\n",
       "      <td>0.058187</td>\n",
       "    </tr>\n",
       "    <tr>\n",
       "      <th>7258</th>\n",
       "      <td>2020-12-28</td>\n",
       "      <td>horoscop today decemb check astrolog predict a...</td>\n",
       "      <td>0.395275</td>\n",
       "      <td>0.085493</td>\n",
       "    </tr>\n",
       "    <tr>\n",
       "      <th>7259</th>\n",
       "      <td>2020-12-29</td>\n",
       "      <td>man recov char remain thief burnt shop dump be...</td>\n",
       "      <td>0.399135</td>\n",
       "      <td>0.068856</td>\n",
       "    </tr>\n",
       "    <tr>\n",
       "      <th>7260</th>\n",
       "      <td>2020-12-30</td>\n",
       "      <td>numerolog read decemb predict lucki colour luc...</td>\n",
       "      <td>0.389012</td>\n",
       "      <td>0.040116</td>\n",
       "    </tr>\n",
       "    <tr>\n",
       "      <th>7261</th>\n",
       "      <td>2020-12-31</td>\n",
       "      <td>horoscop today decemb check astrolog predict a...</td>\n",
       "      <td>0.406992</td>\n",
       "      <td>0.103598</td>\n",
       "    </tr>\n",
       "  </tbody>\n",
       "</table>\n",
       "<p>7262 rows × 4 columns</p>\n",
       "</div>"
      ],
      "text/plain": [
       "           Date                                               News  \\\n",
       "0    2001-01-02  statu quo disturb ayodhya say vajpaye fissur h...   \n",
       "1    2001-01-03  powerless north india grope dark think laxman ...   \n",
       "2    2001-01-04  string pull stephen hawk india vajpaye give bi...   \n",
       "3    2001-01-05  light combat craft take india club class hawk ...   \n",
       "4    2001-01-06  light combat craft take india club class hawk ...   \n",
       "...         ...                                                ...   \n",
       "7257 2020-12-27  biginterview dhritiman chatterje nobodi dare m...   \n",
       "7258 2020-12-28  horoscop today decemb check astrolog predict a...   \n",
       "7259 2020-12-29  man recov char remain thief burnt shop dump be...   \n",
       "7260 2020-12-30  numerolog read decemb predict lucki colour luc...   \n",
       "7261 2020-12-31  horoscop today decemb check astrolog predict a...   \n",
       "\n",
       "      Subjectivity  Polarity  \n",
       "0         0.298148  0.099074  \n",
       "1         0.429167  0.025000  \n",
       "2         0.475140  0.032481  \n",
       "3         0.458412  0.296404  \n",
       "4         0.425758  0.389394  \n",
       "...            ...       ...  \n",
       "7257      0.366994  0.058187  \n",
       "7258      0.395275  0.085493  \n",
       "7259      0.399135  0.068856  \n",
       "7260      0.389012  0.040116  \n",
       "7261      0.406992  0.103598  \n",
       "\n",
       "[7262 rows x 4 columns]"
      ]
     },
     "execution_count": 35,
     "metadata": {},
     "output_type": "execute_result"
    }
   ],
   "source": [
    "#Adding subjectivity and polarity columns\n",
    "df_news['Subjectivity'] = df_news['News'].apply(getSubjectivity)\n",
    "df_news['Polarity'] = df_news['News'].apply(getPolarity)\n",
    "df_news"
   ]
  },
  {
   "cell_type": "code",
   "execution_count": 36,
   "metadata": {
    "scrolled": true
   },
   "outputs": [
    {
     "data": {
      "text/plain": [
       "<AxesSubplot:>"
      ]
     },
     "execution_count": 36,
     "metadata": {},
     "output_type": "execute_result"
    },
    {
     "data": {
      "image/png": "[encoded data removed]",
      "text/plain": [
       "<Figure size 720x432 with 1 Axes>"
      ]
     },
     "metadata": {
      "needs_background": "light"
     },
     "output_type": "display_data"
    }
   ],
   "source": [
    "plt.figure(figsize = (10,6))\n",
    "df_news['Polarity'].hist(color = 'purple')"
   ]
  },
  {
   "cell_type": "code",
   "execution_count": 37,
   "metadata": {
    "scrolled": true
   },
   "outputs": [
    {
     "data": {
      "text/plain": [
       "<AxesSubplot:>"
      ]
     },
     "execution_count": 37,
     "metadata": {},
     "output_type": "execute_result"
    },
    {
     "data": {
      "image/png": "[encoded data removed]",
      "text/plain": [
       "<Figure size 720x432 with 1 Axes>"
      ]
     },
     "metadata": {
      "needs_background": "light"
     },
     "output_type": "display_data"
    }
   ],
   "source": [
    "plt.figure(figsize = (10,6))\n",
    "df_news['Subjectivity'].hist(color = 'blue')"
   ]
  },
  {
   "cell_type": "code",
   "execution_count": 38,
   "metadata": {},
   "outputs": [
    {
     "data": {
      "text/html": [
       "<div>\n",
       "<style scoped>\n",
       "    .dataframe tbody tr th:only-of-type {\n",
       "        vertical-align: middle;\n",
       "    }\n",
       "\n",
       "    .dataframe tbody tr th {\n",
       "        vertical-align: top;\n",
       "    }\n",
       "\n",
       "    .dataframe thead th {\n",
       "        text-align: right;\n",
       "    }\n",
       "</style>\n",
       "<table border=\"1\" class=\"dataframe\">\n",
       "  <thead>\n",
       "    <tr style=\"text-align: right;\">\n",
       "      <th></th>\n",
       "      <th>Date</th>\n",
       "      <th>News</th>\n",
       "      <th>Subjectivity</th>\n",
       "      <th>Polarity</th>\n",
       "      <th>Compound</th>\n",
       "      <th>Negative</th>\n",
       "      <th>Neutral</th>\n",
       "      <th>Positive</th>\n",
       "    </tr>\n",
       "  </thead>\n",
       "  <tbody>\n",
       "    <tr>\n",
       "      <th>0</th>\n",
       "      <td>2001-01-02</td>\n",
       "      <td>statu quo disturb ayodhya say vajpaye fissur h...</td>\n",
       "      <td>0.298148</td>\n",
       "      <td>0.099074</td>\n",
       "      <td>-0.8555</td>\n",
       "      <td>0.125</td>\n",
       "      <td>0.773</td>\n",
       "      <td>0.102</td>\n",
       "    </tr>\n",
       "    <tr>\n",
       "      <th>1</th>\n",
       "      <td>2001-01-03</td>\n",
       "      <td>powerless north india grope dark think laxman ...</td>\n",
       "      <td>0.429167</td>\n",
       "      <td>0.025000</td>\n",
       "      <td>-0.5994</td>\n",
       "      <td>0.132</td>\n",
       "      <td>0.755</td>\n",
       "      <td>0.113</td>\n",
       "    </tr>\n",
       "    <tr>\n",
       "      <th>2</th>\n",
       "      <td>2001-01-04</td>\n",
       "      <td>string pull stephen hawk india vajpaye give bi...</td>\n",
       "      <td>0.475140</td>\n",
       "      <td>0.032481</td>\n",
       "      <td>0.9169</td>\n",
       "      <td>0.099</td>\n",
       "      <td>0.791</td>\n",
       "      <td>0.110</td>\n",
       "    </tr>\n",
       "    <tr>\n",
       "      <th>3</th>\n",
       "      <td>2001-01-05</td>\n",
       "      <td>light combat craft take india club class hawk ...</td>\n",
       "      <td>0.458412</td>\n",
       "      <td>0.296404</td>\n",
       "      <td>-0.3612</td>\n",
       "      <td>0.171</td>\n",
       "      <td>0.659</td>\n",
       "      <td>0.170</td>\n",
       "    </tr>\n",
       "    <tr>\n",
       "      <th>4</th>\n",
       "      <td>2001-01-06</td>\n",
       "      <td>light combat craft take india club class hawk ...</td>\n",
       "      <td>0.425758</td>\n",
       "      <td>0.389394</td>\n",
       "      <td>-0.7579</td>\n",
       "      <td>0.207</td>\n",
       "      <td>0.649</td>\n",
       "      <td>0.144</td>\n",
       "    </tr>\n",
       "    <tr>\n",
       "      <th>...</th>\n",
       "      <td>...</td>\n",
       "      <td>...</td>\n",
       "      <td>...</td>\n",
       "      <td>...</td>\n",
       "      <td>...</td>\n",
       "      <td>...</td>\n",
       "      <td>...</td>\n",
       "      <td>...</td>\n",
       "    </tr>\n",
       "    <tr>\n",
       "      <th>7257</th>\n",
       "      <td>2020-12-27</td>\n",
       "      <td>biginterview dhritiman chatterje nobodi dare m...</td>\n",
       "      <td>0.366994</td>\n",
       "      <td>0.058187</td>\n",
       "      <td>-0.9998</td>\n",
       "      <td>0.145</td>\n",
       "      <td>0.786</td>\n",
       "      <td>0.068</td>\n",
       "    </tr>\n",
       "    <tr>\n",
       "      <th>7258</th>\n",
       "      <td>2020-12-28</td>\n",
       "      <td>horoscop today decemb check astrolog predict a...</td>\n",
       "      <td>0.395275</td>\n",
       "      <td>0.085493</td>\n",
       "      <td>-0.9996</td>\n",
       "      <td>0.120</td>\n",
       "      <td>0.807</td>\n",
       "      <td>0.074</td>\n",
       "    </tr>\n",
       "    <tr>\n",
       "      <th>7259</th>\n",
       "      <td>2020-12-29</td>\n",
       "      <td>man recov char remain thief burnt shop dump be...</td>\n",
       "      <td>0.399135</td>\n",
       "      <td>0.068856</td>\n",
       "      <td>-0.9998</td>\n",
       "      <td>0.145</td>\n",
       "      <td>0.782</td>\n",
       "      <td>0.073</td>\n",
       "    </tr>\n",
       "    <tr>\n",
       "      <th>7260</th>\n",
       "      <td>2020-12-30</td>\n",
       "      <td>numerolog read decemb predict lucki colour luc...</td>\n",
       "      <td>0.389012</td>\n",
       "      <td>0.040116</td>\n",
       "      <td>-0.9999</td>\n",
       "      <td>0.149</td>\n",
       "      <td>0.782</td>\n",
       "      <td>0.069</td>\n",
       "    </tr>\n",
       "    <tr>\n",
       "      <th>7261</th>\n",
       "      <td>2020-12-31</td>\n",
       "      <td>horoscop today decemb check astrolog predict a...</td>\n",
       "      <td>0.406992</td>\n",
       "      <td>0.103598</td>\n",
       "      <td>-0.9995</td>\n",
       "      <td>0.117</td>\n",
       "      <td>0.810</td>\n",
       "      <td>0.073</td>\n",
       "    </tr>\n",
       "  </tbody>\n",
       "</table>\n",
       "<p>7262 rows × 8 columns</p>\n",
       "</div>"
      ],
      "text/plain": [
       "           Date                                               News  \\\n",
       "0    2001-01-02  statu quo disturb ayodhya say vajpaye fissur h...   \n",
       "1    2001-01-03  powerless north india grope dark think laxman ...   \n",
       "2    2001-01-04  string pull stephen hawk india vajpaye give bi...   \n",
       "3    2001-01-05  light combat craft take india club class hawk ...   \n",
       "4    2001-01-06  light combat craft take india club class hawk ...   \n",
       "...         ...                                                ...   \n",
       "7257 2020-12-27  biginterview dhritiman chatterje nobodi dare m...   \n",
       "7258 2020-12-28  horoscop today decemb check astrolog predict a...   \n",
       "7259 2020-12-29  man recov char remain thief burnt shop dump be...   \n",
       "7260 2020-12-30  numerolog read decemb predict lucki colour luc...   \n",
       "7261 2020-12-31  horoscop today decemb check astrolog predict a...   \n",
       "\n",
       "      Subjectivity  Polarity  Compound  Negative  Neutral  Positive  \n",
       "0         0.298148  0.099074   -0.8555     0.125    0.773     0.102  \n",
       "1         0.429167  0.025000   -0.5994     0.132    0.755     0.113  \n",
       "2         0.475140  0.032481    0.9169     0.099    0.791     0.110  \n",
       "3         0.458412  0.296404   -0.3612     0.171    0.659     0.170  \n",
       "4         0.425758  0.389394   -0.7579     0.207    0.649     0.144  \n",
       "...            ...       ...       ...       ...      ...       ...  \n",
       "7257      0.366994  0.058187   -0.9998     0.145    0.786     0.068  \n",
       "7258      0.395275  0.085493   -0.9996     0.120    0.807     0.074  \n",
       "7259      0.399135  0.068856   -0.9998     0.145    0.782     0.073  \n",
       "7260      0.389012  0.040116   -0.9999     0.149    0.782     0.069  \n",
       "7261      0.406992  0.103598   -0.9995     0.117    0.810     0.073  \n",
       "\n",
       "[7262 rows x 8 columns]"
      ]
     },
     "execution_count": 38,
     "metadata": {},
     "output_type": "execute_result"
    }
   ],
   "source": [
    "#Adding sentiment score to df_news\n",
    "sia = SentimentIntensityAnalyzer()\n",
    "\n",
    "df_news['Compound'] = [sia.polarity_scores(v)['compound'] for v in df_news['News']]\n",
    "df_news['Negative'] = [sia.polarity_scores(v)['neg'] for v in df_news['News']]\n",
    "df_news['Neutral'] = [sia.polarity_scores(v)['neu'] for v in df_news['News']]\n",
    "df_news['Positive'] = [sia.polarity_scores(v)['pos'] for v in df_news['News']]\n",
    "df_news"
   ]
  },
  {
   "cell_type": "code",
   "execution_count": 39,
   "metadata": {
    "scrolled": true
   },
   "outputs": [
    {
     "data": {
      "text/html": [
       "<div>\n",
       "<style scoped>\n",
       "    .dataframe tbody tr th:only-of-type {\n",
       "        vertical-align: middle;\n",
       "    }\n",
       "\n",
       "    .dataframe tbody tr th {\n",
       "        vertical-align: top;\n",
       "    }\n",
       "\n",
       "    .dataframe thead th {\n",
       "        text-align: right;\n",
       "    }\n",
       "</style>\n",
       "<table border=\"1\" class=\"dataframe\">\n",
       "  <thead>\n",
       "    <tr style=\"text-align: right;\">\n",
       "      <th></th>\n",
       "      <th>Date</th>\n",
       "      <th>Open</th>\n",
       "      <th>High</th>\n",
       "      <th>Low</th>\n",
       "      <th>Close</th>\n",
       "      <th>Adj Close</th>\n",
       "      <th>Volume</th>\n",
       "      <th>News</th>\n",
       "      <th>Subjectivity</th>\n",
       "      <th>Polarity</th>\n",
       "      <th>Compound</th>\n",
       "      <th>Negative</th>\n",
       "      <th>Neutral</th>\n",
       "      <th>Positive</th>\n",
       "    </tr>\n",
       "  </thead>\n",
       "  <tbody>\n",
       "    <tr>\n",
       "      <th>0</th>\n",
       "      <td>2016-03-16</td>\n",
       "      <td>24537.609375</td>\n",
       "      <td>24706.849609</td>\n",
       "      <td>24354.550781</td>\n",
       "      <td>24682.480469</td>\n",
       "      <td>24682.480469</td>\n",
       "      <td>11000.0</td>\n",
       "      <td>inspir ranveer singh quirki fashion sens readi...</td>\n",
       "      <td>0.366961</td>\n",
       "      <td>0.084938</td>\n",
       "      <td>-0.9997</td>\n",
       "      <td>0.137</td>\n",
       "      <td>0.766</td>\n",
       "      <td>0.096</td>\n",
       "    </tr>\n",
       "    <tr>\n",
       "      <th>1</th>\n",
       "      <td>2016-03-17</td>\n",
       "      <td>24852.179688</td>\n",
       "      <td>24948.300781</td>\n",
       "      <td>24576.519531</td>\n",
       "      <td>24677.369141</td>\n",
       "      <td>24677.369141</td>\n",
       "      <td>14600.0</td>\n",
       "      <td>celebr believ alien could one woman cruel anot...</td>\n",
       "      <td>0.387073</td>\n",
       "      <td>0.036451</td>\n",
       "      <td>-0.9999</td>\n",
       "      <td>0.156</td>\n",
       "      <td>0.759</td>\n",
       "      <td>0.085</td>\n",
       "    </tr>\n",
       "    <tr>\n",
       "      <th>2</th>\n",
       "      <td>2016-03-18</td>\n",
       "      <td>24729.410156</td>\n",
       "      <td>24986.939453</td>\n",
       "      <td>24681.640625</td>\n",
       "      <td>24952.740234</td>\n",
       "      <td>24952.740234</td>\n",
       "      <td>14100.0</td>\n",
       "      <td>app pet parent need take break troubl relation...</td>\n",
       "      <td>0.364355</td>\n",
       "      <td>0.059570</td>\n",
       "      <td>-0.9999</td>\n",
       "      <td>0.149</td>\n",
       "      <td>0.768</td>\n",
       "      <td>0.083</td>\n",
       "    </tr>\n",
       "    <tr>\n",
       "      <th>3</th>\n",
       "      <td>2016-03-21</td>\n",
       "      <td>25007.560547</td>\n",
       "      <td>25327.449219</td>\n",
       "      <td>24988.269531</td>\n",
       "      <td>25285.369141</td>\n",
       "      <td>25285.369141</td>\n",
       "      <td>12400.0</td>\n",
       "      <td>stuck wrong job smartphon zombi cute celebr ki...</td>\n",
       "      <td>0.386351</td>\n",
       "      <td>0.090106</td>\n",
       "      <td>-0.9994</td>\n",
       "      <td>0.139</td>\n",
       "      <td>0.757</td>\n",
       "      <td>0.104</td>\n",
       "    </tr>\n",
       "    <tr>\n",
       "      <th>4</th>\n",
       "      <td>2016-03-22</td>\n",
       "      <td>25331.009766</td>\n",
       "      <td>25381.330078</td>\n",
       "      <td>25083.699219</td>\n",
       "      <td>25330.490234</td>\n",
       "      <td>25330.490234</td>\n",
       "      <td>12000.0</td>\n",
       "      <td>thing women must learn men deal workplac break...</td>\n",
       "      <td>0.389363</td>\n",
       "      <td>0.099977</td>\n",
       "      <td>-0.9998</td>\n",
       "      <td>0.147</td>\n",
       "      <td>0.764</td>\n",
       "      <td>0.089</td>\n",
       "    </tr>\n",
       "    <tr>\n",
       "      <th>...</th>\n",
       "      <td>...</td>\n",
       "      <td>...</td>\n",
       "      <td>...</td>\n",
       "      <td>...</td>\n",
       "      <td>...</td>\n",
       "      <td>...</td>\n",
       "      <td>...</td>\n",
       "      <td>...</td>\n",
       "      <td>...</td>\n",
       "      <td>...</td>\n",
       "      <td>...</td>\n",
       "      <td>...</td>\n",
       "      <td>...</td>\n",
       "      <td>...</td>\n",
       "    </tr>\n",
       "    <tr>\n",
       "      <th>1174</th>\n",
       "      <td>2020-12-24</td>\n",
       "      <td>46743.488281</td>\n",
       "      <td>47053.398438</td>\n",
       "      <td>46539.019531</td>\n",
       "      <td>46973.539063</td>\n",
       "      <td>46973.539063</td>\n",
       "      <td>13700.0</td>\n",
       "      <td>set mood sex cold winter two hous blow gujarat...</td>\n",
       "      <td>0.386303</td>\n",
       "      <td>0.065157</td>\n",
       "      <td>-0.9995</td>\n",
       "      <td>0.116</td>\n",
       "      <td>0.809</td>\n",
       "      <td>0.075</td>\n",
       "    </tr>\n",
       "    <tr>\n",
       "      <th>1175</th>\n",
       "      <td>2020-12-28</td>\n",
       "      <td>47153.589844</td>\n",
       "      <td>47406.718750</td>\n",
       "      <td>47148.238281</td>\n",
       "      <td>47353.750000</td>\n",
       "      <td>47353.750000</td>\n",
       "      <td>9600.0</td>\n",
       "      <td>horoscop today decemb check astrolog predict a...</td>\n",
       "      <td>0.395275</td>\n",
       "      <td>0.085493</td>\n",
       "      <td>-0.9996</td>\n",
       "      <td>0.120</td>\n",
       "      <td>0.807</td>\n",
       "      <td>0.074</td>\n",
       "    </tr>\n",
       "    <tr>\n",
       "      <th>1176</th>\n",
       "      <td>2020-12-29</td>\n",
       "      <td>47466.621094</td>\n",
       "      <td>47714.550781</td>\n",
       "      <td>47361.898438</td>\n",
       "      <td>47613.078125</td>\n",
       "      <td>47613.078125</td>\n",
       "      <td>12800.0</td>\n",
       "      <td>man recov char remain thief burnt shop dump be...</td>\n",
       "      <td>0.399135</td>\n",
       "      <td>0.068856</td>\n",
       "      <td>-0.9998</td>\n",
       "      <td>0.145</td>\n",
       "      <td>0.782</td>\n",
       "      <td>0.073</td>\n",
       "    </tr>\n",
       "    <tr>\n",
       "      <th>1177</th>\n",
       "      <td>2020-12-30</td>\n",
       "      <td>47789.031250</td>\n",
       "      <td>47807.851563</td>\n",
       "      <td>47358.359375</td>\n",
       "      <td>47746.218750</td>\n",
       "      <td>47746.218750</td>\n",
       "      <td>15600.0</td>\n",
       "      <td>numerolog read decemb predict lucki colour luc...</td>\n",
       "      <td>0.389012</td>\n",
       "      <td>0.040116</td>\n",
       "      <td>-0.9999</td>\n",
       "      <td>0.149</td>\n",
       "      <td>0.782</td>\n",
       "      <td>0.069</td>\n",
       "    </tr>\n",
       "    <tr>\n",
       "      <th>1178</th>\n",
       "      <td>2020-12-31</td>\n",
       "      <td>47753.109375</td>\n",
       "      <td>47896.968750</td>\n",
       "      <td>47602.121094</td>\n",
       "      <td>47751.328125</td>\n",
       "      <td>47751.328125</td>\n",
       "      <td>13900.0</td>\n",
       "      <td>horoscop today decemb check astrolog predict a...</td>\n",
       "      <td>0.406992</td>\n",
       "      <td>0.103598</td>\n",
       "      <td>-0.9995</td>\n",
       "      <td>0.117</td>\n",
       "      <td>0.810</td>\n",
       "      <td>0.073</td>\n",
       "    </tr>\n",
       "  </tbody>\n",
       "</table>\n",
       "<p>1179 rows × 14 columns</p>\n",
       "</div>"
      ],
      "text/plain": [
       "           Date          Open          High           Low         Close  \\\n",
       "0    2016-03-16  24537.609375  24706.849609  24354.550781  24682.480469   \n",
       "1    2016-03-17  24852.179688  24948.300781  24576.519531  24677.369141   \n",
       "2    2016-03-18  24729.410156  24986.939453  24681.640625  24952.740234   \n",
       "3    2016-03-21  25007.560547  25327.449219  24988.269531  25285.369141   \n",
       "4    2016-03-22  25331.009766  25381.330078  25083.699219  25330.490234   \n",
       "...         ...           ...           ...           ...           ...   \n",
       "1174 2020-12-24  46743.488281  47053.398438  46539.019531  46973.539063   \n",
       "1175 2020-12-28  47153.589844  47406.718750  47148.238281  47353.750000   \n",
       "1176 2020-12-29  47466.621094  47714.550781  47361.898438  47613.078125   \n",
       "1177 2020-12-30  47789.031250  47807.851563  47358.359375  47746.218750   \n",
       "1178 2020-12-31  47753.109375  47896.968750  47602.121094  47751.328125   \n",
       "\n",
       "         Adj Close   Volume  \\\n",
       "0     24682.480469  11000.0   \n",
       "1     24677.369141  14600.0   \n",
       "2     24952.740234  14100.0   \n",
       "3     25285.369141  12400.0   \n",
       "4     25330.490234  12000.0   \n",
       "...            ...      ...   \n",
       "1174  46973.539063  13700.0   \n",
       "1175  47353.750000   9600.0   \n",
       "1176  47613.078125  12800.0   \n",
       "1177  47746.218750  15600.0   \n",
       "1178  47751.328125  13900.0   \n",
       "\n",
       "                                                   News  Subjectivity  \\\n",
       "0     inspir ranveer singh quirki fashion sens readi...      0.366961   \n",
       "1     celebr believ alien could one woman cruel anot...      0.387073   \n",
       "2     app pet parent need take break troubl relation...      0.364355   \n",
       "3     stuck wrong job smartphon zombi cute celebr ki...      0.386351   \n",
       "4     thing women must learn men deal workplac break...      0.389363   \n",
       "...                                                 ...           ...   \n",
       "1174  set mood sex cold winter two hous blow gujarat...      0.386303   \n",
       "1175  horoscop today decemb check astrolog predict a...      0.395275   \n",
       "1176  man recov char remain thief burnt shop dump be...      0.399135   \n",
       "1177  numerolog read decemb predict lucki colour luc...      0.389012   \n",
       "1178  horoscop today decemb check astrolog predict a...      0.406992   \n",
       "\n",
       "      Polarity  Compound  Negative  Neutral  Positive  \n",
       "0     0.084938   -0.9997     0.137    0.766     0.096  \n",
       "1     0.036451   -0.9999     0.156    0.759     0.085  \n",
       "2     0.059570   -0.9999     0.149    0.768     0.083  \n",
       "3     0.090106   -0.9994     0.139    0.757     0.104  \n",
       "4     0.099977   -0.9998     0.147    0.764     0.089  \n",
       "...        ...       ...       ...      ...       ...  \n",
       "1174  0.065157   -0.9995     0.116    0.809     0.075  \n",
       "1175  0.085493   -0.9996     0.120    0.807     0.074  \n",
       "1176  0.068856   -0.9998     0.145    0.782     0.073  \n",
       "1177  0.040116   -0.9999     0.149    0.782     0.069  \n",
       "1178  0.103598   -0.9995     0.117    0.810     0.073  \n",
       "\n",
       "[1179 rows x 14 columns]"
      ]
     },
     "execution_count": 39,
     "metadata": {},
     "output_type": "execute_result"
    }
   ],
   "source": [
    "df_merge = pd.merge(df_prices, df_news, how='inner', on='Date')\n",
    "df_merge"
   ]
  },
  {
   "cell_type": "code",
   "execution_count": 40,
   "metadata": {
    "scrolled": true
   },
   "outputs": [
    {
     "data": {
      "text/html": [
       "<div>\n",
       "<style scoped>\n",
       "    .dataframe tbody tr th:only-of-type {\n",
       "        vertical-align: middle;\n",
       "    }\n",
       "\n",
       "    .dataframe tbody tr th {\n",
       "        vertical-align: top;\n",
       "    }\n",
       "\n",
       "    .dataframe thead th {\n",
       "        text-align: right;\n",
       "    }\n",
       "</style>\n",
       "<table border=\"1\" class=\"dataframe\">\n",
       "  <thead>\n",
       "    <tr style=\"text-align: right;\">\n",
       "      <th></th>\n",
       "      <th>Close</th>\n",
       "      <th>Subjectivity</th>\n",
       "      <th>Polarity</th>\n",
       "      <th>Compound</th>\n",
       "      <th>Negative</th>\n",
       "      <th>Neutral</th>\n",
       "      <th>Positive</th>\n",
       "    </tr>\n",
       "  </thead>\n",
       "  <tbody>\n",
       "    <tr>\n",
       "      <th>0</th>\n",
       "      <td>24682.480469</td>\n",
       "      <td>0.366961</td>\n",
       "      <td>0.084938</td>\n",
       "      <td>-0.9997</td>\n",
       "      <td>0.137</td>\n",
       "      <td>0.766</td>\n",
       "      <td>0.096</td>\n",
       "    </tr>\n",
       "    <tr>\n",
       "      <th>1</th>\n",
       "      <td>24677.369141</td>\n",
       "      <td>0.387073</td>\n",
       "      <td>0.036451</td>\n",
       "      <td>-0.9999</td>\n",
       "      <td>0.156</td>\n",
       "      <td>0.759</td>\n",
       "      <td>0.085</td>\n",
       "    </tr>\n",
       "    <tr>\n",
       "      <th>2</th>\n",
       "      <td>24952.740234</td>\n",
       "      <td>0.364355</td>\n",
       "      <td>0.059570</td>\n",
       "      <td>-0.9999</td>\n",
       "      <td>0.149</td>\n",
       "      <td>0.768</td>\n",
       "      <td>0.083</td>\n",
       "    </tr>\n",
       "    <tr>\n",
       "      <th>3</th>\n",
       "      <td>25285.369141</td>\n",
       "      <td>0.386351</td>\n",
       "      <td>0.090106</td>\n",
       "      <td>-0.9994</td>\n",
       "      <td>0.139</td>\n",
       "      <td>0.757</td>\n",
       "      <td>0.104</td>\n",
       "    </tr>\n",
       "    <tr>\n",
       "      <th>4</th>\n",
       "      <td>25330.490234</td>\n",
       "      <td>0.389363</td>\n",
       "      <td>0.099977</td>\n",
       "      <td>-0.9998</td>\n",
       "      <td>0.147</td>\n",
       "      <td>0.764</td>\n",
       "      <td>0.089</td>\n",
       "    </tr>\n",
       "    <tr>\n",
       "      <th>...</th>\n",
       "      <td>...</td>\n",
       "      <td>...</td>\n",
       "      <td>...</td>\n",
       "      <td>...</td>\n",
       "      <td>...</td>\n",
       "      <td>...</td>\n",
       "      <td>...</td>\n",
       "    </tr>\n",
       "    <tr>\n",
       "      <th>1174</th>\n",
       "      <td>46973.539063</td>\n",
       "      <td>0.386303</td>\n",
       "      <td>0.065157</td>\n",
       "      <td>-0.9995</td>\n",
       "      <td>0.116</td>\n",
       "      <td>0.809</td>\n",
       "      <td>0.075</td>\n",
       "    </tr>\n",
       "    <tr>\n",
       "      <th>1175</th>\n",
       "      <td>47353.750000</td>\n",
       "      <td>0.395275</td>\n",
       "      <td>0.085493</td>\n",
       "      <td>-0.9996</td>\n",
       "      <td>0.120</td>\n",
       "      <td>0.807</td>\n",
       "      <td>0.074</td>\n",
       "    </tr>\n",
       "    <tr>\n",
       "      <th>1176</th>\n",
       "      <td>47613.078125</td>\n",
       "      <td>0.399135</td>\n",
       "      <td>0.068856</td>\n",
       "      <td>-0.9998</td>\n",
       "      <td>0.145</td>\n",
       "      <td>0.782</td>\n",
       "      <td>0.073</td>\n",
       "    </tr>\n",
       "    <tr>\n",
       "      <th>1177</th>\n",
       "      <td>47746.218750</td>\n",
       "      <td>0.389012</td>\n",
       "      <td>0.040116</td>\n",
       "      <td>-0.9999</td>\n",
       "      <td>0.149</td>\n",
       "      <td>0.782</td>\n",
       "      <td>0.069</td>\n",
       "    </tr>\n",
       "    <tr>\n",
       "      <th>1178</th>\n",
       "      <td>47751.328125</td>\n",
       "      <td>0.406992</td>\n",
       "      <td>0.103598</td>\n",
       "      <td>-0.9995</td>\n",
       "      <td>0.117</td>\n",
       "      <td>0.810</td>\n",
       "      <td>0.073</td>\n",
       "    </tr>\n",
       "  </tbody>\n",
       "</table>\n",
       "<p>1179 rows × 7 columns</p>\n",
       "</div>"
      ],
      "text/plain": [
       "             Close  Subjectivity  Polarity  Compound  Negative  Neutral  \\\n",
       "0     24682.480469      0.366961  0.084938   -0.9997     0.137    0.766   \n",
       "1     24677.369141      0.387073  0.036451   -0.9999     0.156    0.759   \n",
       "2     24952.740234      0.364355  0.059570   -0.9999     0.149    0.768   \n",
       "3     25285.369141      0.386351  0.090106   -0.9994     0.139    0.757   \n",
       "4     25330.490234      0.389363  0.099977   -0.9998     0.147    0.764   \n",
       "...            ...           ...       ...       ...       ...      ...   \n",
       "1174  46973.539063      0.386303  0.065157   -0.9995     0.116    0.809   \n",
       "1175  47353.750000      0.395275  0.085493   -0.9996     0.120    0.807   \n",
       "1176  47613.078125      0.399135  0.068856   -0.9998     0.145    0.782   \n",
       "1177  47746.218750      0.389012  0.040116   -0.9999     0.149    0.782   \n",
       "1178  47751.328125      0.406992  0.103598   -0.9995     0.117    0.810   \n",
       "\n",
       "      Positive  \n",
       "0        0.096  \n",
       "1        0.085  \n",
       "2        0.083  \n",
       "3        0.104  \n",
       "4        0.089  \n",
       "...        ...  \n",
       "1174     0.075  \n",
       "1175     0.074  \n",
       "1176     0.073  \n",
       "1177     0.069  \n",
       "1178     0.073  \n",
       "\n",
       "[1179 rows x 7 columns]"
      ]
     },
     "execution_count": 40,
     "metadata": {},
     "output_type": "execute_result"
    }
   ],
   "source": [
    "df = df_merge[['Close','Subjectivity', 'Polarity', 'Compound', 'Negative', 'Neutral' ,'Positive']]\n",
    "df"
   ]
  },
  {
   "cell_type": "code",
   "execution_count": 41,
   "metadata": {},
   "outputs": [
    {
     "data": {
      "text/html": [
       "<div>\n",
       "<style scoped>\n",
       "    .dataframe tbody tr th:only-of-type {\n",
       "        vertical-align: middle;\n",
       "    }\n",
       "\n",
       "    .dataframe tbody tr th {\n",
       "        vertical-align: top;\n",
       "    }\n",
       "\n",
       "    .dataframe thead th {\n",
       "        text-align: right;\n",
       "    }\n",
       "</style>\n",
       "<table border=\"1\" class=\"dataframe\">\n",
       "  <thead>\n",
       "    <tr style=\"text-align: right;\">\n",
       "      <th></th>\n",
       "      <th>Close</th>\n",
       "      <th>Subjectivity</th>\n",
       "      <th>Polarity</th>\n",
       "      <th>Compound</th>\n",
       "      <th>Negative</th>\n",
       "      <th>Neutral</th>\n",
       "      <th>Positive</th>\n",
       "    </tr>\n",
       "  </thead>\n",
       "  <tbody>\n",
       "    <tr>\n",
       "      <th>0</th>\n",
       "      <td>0.000374</td>\n",
       "      <td>0.228877</td>\n",
       "      <td>0.309061</td>\n",
       "      <td>0.000153</td>\n",
       "      <td>0.495146</td>\n",
       "      <td>0.313559</td>\n",
       "      <td>0.671233</td>\n",
       "    </tr>\n",
       "    <tr>\n",
       "      <th>1</th>\n",
       "      <td>0.000153</td>\n",
       "      <td>0.318190</td>\n",
       "      <td>0.156562</td>\n",
       "      <td>0.000051</td>\n",
       "      <td>0.679612</td>\n",
       "      <td>0.254237</td>\n",
       "      <td>0.520548</td>\n",
       "    </tr>\n",
       "    <tr>\n",
       "      <th>2</th>\n",
       "      <td>0.012085</td>\n",
       "      <td>0.217306</td>\n",
       "      <td>0.229273</td>\n",
       "      <td>0.000051</td>\n",
       "      <td>0.611650</td>\n",
       "      <td>0.330508</td>\n",
       "      <td>0.493151</td>\n",
       "    </tr>\n",
       "    <tr>\n",
       "      <th>3</th>\n",
       "      <td>0.026499</td>\n",
       "      <td>0.314982</td>\n",
       "      <td>0.325314</td>\n",
       "      <td>0.000306</td>\n",
       "      <td>0.514563</td>\n",
       "      <td>0.237288</td>\n",
       "      <td>0.780822</td>\n",
       "    </tr>\n",
       "    <tr>\n",
       "      <th>4</th>\n",
       "      <td>0.028454</td>\n",
       "      <td>0.328357</td>\n",
       "      <td>0.356361</td>\n",
       "      <td>0.000102</td>\n",
       "      <td>0.592233</td>\n",
       "      <td>0.296610</td>\n",
       "      <td>0.575342</td>\n",
       "    </tr>\n",
       "  </tbody>\n",
       "</table>\n",
       "</div>"
      ],
      "text/plain": [
       "      Close  Subjectivity  Polarity  Compound  Negative   Neutral  Positive\n",
       "0  0.000374      0.228877  0.309061  0.000153  0.495146  0.313559  0.671233\n",
       "1  0.000153      0.318190  0.156562  0.000051  0.679612  0.254237  0.520548\n",
       "2  0.012085      0.217306  0.229273  0.000051  0.611650  0.330508  0.493151\n",
       "3  0.026499      0.314982  0.325314  0.000306  0.514563  0.237288  0.780822\n",
       "4  0.028454      0.328357  0.356361  0.000102  0.592233  0.296610  0.575342"
      ]
     },
     "execution_count": 41,
     "metadata": {},
     "output_type": "execute_result"
    }
   ],
   "source": [
    "from sklearn.preprocessing import MinMaxScaler\n",
    "sc = MinMaxScaler()\n",
    "new_df = pd.DataFrame(sc.fit_transform(df))\n",
    "new_df.columns = df.columns\n",
    "new_df.index = df.index\n",
    "new_df.head()"
   ]
  },
  {
   "cell_type": "code",
   "execution_count": 42,
   "metadata": {},
   "outputs": [],
   "source": [
    "X = new_df.drop('Close', axis=1)\n",
    "y =new_df['Close']"
   ]
  },
  {
   "cell_type": "code",
   "execution_count": 43,
   "metadata": {
    "scrolled": true
   },
   "outputs": [
    {
     "data": {
      "text/html": [
       "<div>\n",
       "<style scoped>\n",
       "    .dataframe tbody tr th:only-of-type {\n",
       "        vertical-align: middle;\n",
       "    }\n",
       "\n",
       "    .dataframe tbody tr th {\n",
       "        vertical-align: top;\n",
       "    }\n",
       "\n",
       "    .dataframe thead th {\n",
       "        text-align: right;\n",
       "    }\n",
       "</style>\n",
       "<table border=\"1\" class=\"dataframe\">\n",
       "  <thead>\n",
       "    <tr style=\"text-align: right;\">\n",
       "      <th></th>\n",
       "      <th>Subjectivity</th>\n",
       "      <th>Polarity</th>\n",
       "      <th>Compound</th>\n",
       "      <th>Negative</th>\n",
       "      <th>Neutral</th>\n",
       "      <th>Positive</th>\n",
       "    </tr>\n",
       "  </thead>\n",
       "  <tbody>\n",
       "    <tr>\n",
       "      <th>0</th>\n",
       "      <td>0.228877</td>\n",
       "      <td>0.309061</td>\n",
       "      <td>0.000153</td>\n",
       "      <td>0.495146</td>\n",
       "      <td>0.313559</td>\n",
       "      <td>0.671233</td>\n",
       "    </tr>\n",
       "    <tr>\n",
       "      <th>1</th>\n",
       "      <td>0.318190</td>\n",
       "      <td>0.156562</td>\n",
       "      <td>0.000051</td>\n",
       "      <td>0.679612</td>\n",
       "      <td>0.254237</td>\n",
       "      <td>0.520548</td>\n",
       "    </tr>\n",
       "    <tr>\n",
       "      <th>2</th>\n",
       "      <td>0.217306</td>\n",
       "      <td>0.229273</td>\n",
       "      <td>0.000051</td>\n",
       "      <td>0.611650</td>\n",
       "      <td>0.330508</td>\n",
       "      <td>0.493151</td>\n",
       "    </tr>\n",
       "    <tr>\n",
       "      <th>3</th>\n",
       "      <td>0.314982</td>\n",
       "      <td>0.325314</td>\n",
       "      <td>0.000306</td>\n",
       "      <td>0.514563</td>\n",
       "      <td>0.237288</td>\n",
       "      <td>0.780822</td>\n",
       "    </tr>\n",
       "    <tr>\n",
       "      <th>4</th>\n",
       "      <td>0.328357</td>\n",
       "      <td>0.356361</td>\n",
       "      <td>0.000102</td>\n",
       "      <td>0.592233</td>\n",
       "      <td>0.296610</td>\n",
       "      <td>0.575342</td>\n",
       "    </tr>\n",
       "  </tbody>\n",
       "</table>\n",
       "</div>"
      ],
      "text/plain": [
       "   Subjectivity  Polarity  Compound  Negative   Neutral  Positive\n",
       "0      0.228877  0.309061  0.000153  0.495146  0.313559  0.671233\n",
       "1      0.318190  0.156562  0.000051  0.679612  0.254237  0.520548\n",
       "2      0.217306  0.229273  0.000051  0.611650  0.330508  0.493151\n",
       "3      0.314982  0.325314  0.000306  0.514563  0.237288  0.780822\n",
       "4      0.328357  0.356361  0.000102  0.592233  0.296610  0.575342"
      ]
     },
     "execution_count": 43,
     "metadata": {},
     "output_type": "execute_result"
    }
   ],
   "source": [
    "X.head()"
   ]
  },
  {
   "cell_type": "code",
   "execution_count": 44,
   "metadata": {},
   "outputs": [
    {
     "data": {
      "text/plain": [
       "(943, 6)"
      ]
     },
     "execution_count": 44,
     "metadata": {},
     "output_type": "execute_result"
    }
   ],
   "source": [
    "x_train, x_test, y_train, y_test = train_test_split(X, y, test_size=0.2, random_state = 0)\n",
    "x_train.shape"
   ]
  },
  {
   "cell_type": "code",
   "execution_count": 45,
   "metadata": {},
   "outputs": [
    {
     "data": {
      "text/html": [
       "<div>\n",
       "<style scoped>\n",
       "    .dataframe tbody tr th:only-of-type {\n",
       "        vertical-align: middle;\n",
       "    }\n",
       "\n",
       "    .dataframe tbody tr th {\n",
       "        vertical-align: top;\n",
       "    }\n",
       "\n",
       "    .dataframe thead th {\n",
       "        text-align: right;\n",
       "    }\n",
       "</style>\n",
       "<table border=\"1\" class=\"dataframe\">\n",
       "  <thead>\n",
       "    <tr style=\"text-align: right;\">\n",
       "      <th></th>\n",
       "      <th>Subjectivity</th>\n",
       "      <th>Polarity</th>\n",
       "      <th>Compound</th>\n",
       "      <th>Negative</th>\n",
       "      <th>Neutral</th>\n",
       "      <th>Positive</th>\n",
       "    </tr>\n",
       "  </thead>\n",
       "  <tbody>\n",
       "    <tr>\n",
       "      <th>413</th>\n",
       "      <td>0.184156</td>\n",
       "      <td>0.267277</td>\n",
       "      <td>0.000051</td>\n",
       "      <td>0.631068</td>\n",
       "      <td>0.305085</td>\n",
       "      <td>0.506849</td>\n",
       "    </tr>\n",
       "    <tr>\n",
       "      <th>412</th>\n",
       "      <td>0.235535</td>\n",
       "      <td>0.261369</td>\n",
       "      <td>0.000051</td>\n",
       "      <td>0.640777</td>\n",
       "      <td>0.347458</td>\n",
       "      <td>0.410959</td>\n",
       "    </tr>\n",
       "    <tr>\n",
       "      <th>1041</th>\n",
       "      <td>0.268243</td>\n",
       "      <td>0.257100</td>\n",
       "      <td>0.000255</td>\n",
       "      <td>0.378641</td>\n",
       "      <td>0.567797</td>\n",
       "      <td>0.438356</td>\n",
       "    </tr>\n",
       "    <tr>\n",
       "      <th>494</th>\n",
       "      <td>0.344074</td>\n",
       "      <td>0.259321</td>\n",
       "      <td>0.000051</td>\n",
       "      <td>0.582524</td>\n",
       "      <td>0.330508</td>\n",
       "      <td>0.534247</td>\n",
       "    </tr>\n",
       "    <tr>\n",
       "      <th>481</th>\n",
       "      <td>0.141585</td>\n",
       "      <td>0.373405</td>\n",
       "      <td>0.000051</td>\n",
       "      <td>0.553398</td>\n",
       "      <td>0.398305</td>\n",
       "      <td>0.452055</td>\n",
       "    </tr>\n",
       "    <tr>\n",
       "      <th>1178</th>\n",
       "      <td>0.406640</td>\n",
       "      <td>0.367748</td>\n",
       "      <td>0.000255</td>\n",
       "      <td>0.300971</td>\n",
       "      <td>0.686441</td>\n",
       "      <td>0.356164</td>\n",
       "    </tr>\n",
       "    <tr>\n",
       "      <th>866</th>\n",
       "      <td>0.405125</td>\n",
       "      <td>0.445055</td>\n",
       "      <td>0.000153</td>\n",
       "      <td>0.456311</td>\n",
       "      <td>0.508475</td>\n",
       "      <td>0.424658</td>\n",
       "    </tr>\n",
       "    <tr>\n",
       "      <th>308</th>\n",
       "      <td>0.271624</td>\n",
       "      <td>0.232811</td>\n",
       "      <td>0.000204</td>\n",
       "      <td>0.330097</td>\n",
       "      <td>0.559322</td>\n",
       "      <td>0.520548</td>\n",
       "    </tr>\n",
       "    <tr>\n",
       "      <th>97</th>\n",
       "      <td>0.296544</td>\n",
       "      <td>0.244668</td>\n",
       "      <td>0.000153</td>\n",
       "      <td>0.572816</td>\n",
       "      <td>0.228814</td>\n",
       "      <td>0.712329</td>\n",
       "    </tr>\n",
       "    <tr>\n",
       "      <th>247</th>\n",
       "      <td>0.197037</td>\n",
       "      <td>0.230672</td>\n",
       "      <td>0.000255</td>\n",
       "      <td>0.359223</td>\n",
       "      <td>0.508475</td>\n",
       "      <td>0.561644</td>\n",
       "    </tr>\n",
       "  </tbody>\n",
       "</table>\n",
       "</div>"
      ],
      "text/plain": [
       "      Subjectivity  Polarity  Compound  Negative   Neutral  Positive\n",
       "413       0.184156  0.267277  0.000051  0.631068  0.305085  0.506849\n",
       "412       0.235535  0.261369  0.000051  0.640777  0.347458  0.410959\n",
       "1041      0.268243  0.257100  0.000255  0.378641  0.567797  0.438356\n",
       "494       0.344074  0.259321  0.000051  0.582524  0.330508  0.534247\n",
       "481       0.141585  0.373405  0.000051  0.553398  0.398305  0.452055\n",
       "1178      0.406640  0.367748  0.000255  0.300971  0.686441  0.356164\n",
       "866       0.405125  0.445055  0.000153  0.456311  0.508475  0.424658\n",
       "308       0.271624  0.232811  0.000204  0.330097  0.559322  0.520548\n",
       "97        0.296544  0.244668  0.000153  0.572816  0.228814  0.712329\n",
       "247       0.197037  0.230672  0.000255  0.359223  0.508475  0.561644"
      ]
     },
     "execution_count": 45,
     "metadata": {},
     "output_type": "execute_result"
    }
   ],
   "source": [
    "x_train[:10]"
   ]
  },
  {
   "cell_type": "code",
   "execution_count": 46,
   "metadata": {},
   "outputs": [],
   "source": [
    "rf = RandomForestRegressor()\n",
    "rf.fit(x_train, y_train)\n",
    "prediction=rf.predict(x_test)"
   ]
  },
  {
   "cell_type": "code",
   "execution_count": 47,
   "metadata": {},
   "outputs": [
    {
     "name": "stdout",
     "output_type": "stream",
     "text": [
      "[0.23462135 0.39529056 0.2585288  0.24608977 0.4871056  0.41443178\n",
      " 0.4999716  0.19217748 0.41339435 0.35936165]\n",
      "161     0.070666\n",
      "932     0.693437\n",
      "416     0.385125\n",
      "356     0.306662\n",
      "678     0.489182\n",
      "267     0.202047\n",
      "1114    0.576657\n",
      "298     0.285969\n",
      "690     0.469716\n",
      "1009    0.391888\n",
      "Name: Close, dtype: float64\n",
      "0.03497204042925019\n"
     ]
    }
   ],
   "source": [
    "print(prediction[:10])\n",
    "print(y_test[:10])\n",
    "print(mean_squared_error(prediction,y_test))"
   ]
  },
  {
   "cell_type": "code",
   "execution_count": 48,
   "metadata": {},
   "outputs": [],
   "source": [
    "adb = AdaBoostRegressor()\n",
    "adb.fit(x_train, y_train)\n",
    "predictions = adb.predict(x_test)"
   ]
  },
  {
   "cell_type": "code",
   "execution_count": 49,
   "metadata": {},
   "outputs": [
    {
     "name": "stdout",
     "output_type": "stream",
     "text": [
      "0.03473136815884288\n"
     ]
    }
   ],
   "source": [
    "print(mean_squared_error(predictions, y_test))"
   ]
  },
  {
   "cell_type": "code",
   "execution_count": 50,
   "metadata": {},
   "outputs": [],
   "source": [
    "from sklearn.tree import DecisionTreeRegressor\n",
    "dec_tree = DecisionTreeRegressor()\n",
    "dec_tree.fit(x_train, y_train)\n",
    "predictions = dec_tree.predict(x_test)"
   ]
  },
  {
   "cell_type": "code",
   "execution_count": 51,
   "metadata": {
    "scrolled": true
   },
   "outputs": [
    {
     "name": "stdout",
     "output_type": "stream",
     "text": [
      "[0.14769805 0.57445288 0.15189002 0.32553674 0.69832292 0.47746443\n",
      " 0.35355241 0.60877898 0.14426524 0.22280371]\n",
      "161     0.070666\n",
      "932     0.693437\n",
      "416     0.385125\n",
      "356     0.306662\n",
      "678     0.489182\n",
      "267     0.202047\n",
      "1114    0.576657\n",
      "298     0.285969\n",
      "690     0.469716\n",
      "1009    0.391888\n",
      "Name: Close, dtype: float64\n",
      "0.057248295673031524\n"
     ]
    }
   ],
   "source": [
    "print(predictions[:10])\n",
    "print(y_test[:10])\n",
    "print(mean_squared_error(predictions,y_test))"
   ]
  },
  {
   "cell_type": "code",
   "execution_count": 52,
   "metadata": {
    "scrolled": true
   },
   "outputs": [
    {
     "data": {
      "text/plain": [
       "LGBMRegressor()"
      ]
     },
     "execution_count": 52,
     "metadata": {},
     "output_type": "execute_result"
    }
   ],
   "source": [
    "lgb = lightgbm.LGBMRegressor()\n",
    "lgb.fit(x_train, y_train)"
   ]
  },
  {
   "cell_type": "code",
   "execution_count": 53,
   "metadata": {},
   "outputs": [
    {
     "name": "stdout",
     "output_type": "stream",
     "text": [
      "0.040642620210020006\n"
     ]
    }
   ],
   "source": [
    "predictions = lgb.predict(x_test)\n",
    "print(mean_squared_error(predictions,y_test))"
   ]
  },
  {
   "cell_type": "code",
   "execution_count": 54,
   "metadata": {},
   "outputs": [
    {
     "data": {
      "text/plain": [
       "XGBRegressor(base_score=0.5, booster='gbtree', colsample_bylevel=1,\n",
       "             colsample_bynode=1, colsample_bytree=1, gamma=0, gpu_id=-1,\n",
       "             importance_type='gain', interaction_constraints='',\n",
       "             learning_rate=0.300000012, max_delta_step=0, max_depth=6,\n",
       "             min_child_weight=1, missing=nan, monotone_constraints='()',\n",
       "             n_estimators=100, n_jobs=8, num_parallel_tree=1, random_state=0,\n",
       "             reg_alpha=0, reg_lambda=1, scale_pos_weight=1, subsample=1,\n",
       "             tree_method='exact', validate_parameters=1, verbosity=None)"
      ]
     },
     "execution_count": 54,
     "metadata": {},
     "output_type": "execute_result"
    }
   ],
   "source": [
    "xgb = xgboost.XGBRegressor()\n",
    "xgb.fit(x_train, y_train)"
   ]
  },
  {
   "cell_type": "code",
   "execution_count": 55,
   "metadata": {},
   "outputs": [
    {
     "name": "stdout",
     "output_type": "stream",
     "text": [
      "0.039929336481827865\n"
     ]
    }
   ],
   "source": [
    "predictions = xgb.predict(x_test)\n",
    "print(mean_squared_error(predictions,y_test))"
   ]
  },
  {
   "cell_type": "markdown",
   "metadata": {},
   "source": [
    "### We observe that Xgboost perform the best for the sentiment analysis"
   ]
  }
 ],
 "metadata": {
  "kernelspec": {
   "display_name": "Python 3",
   "language": "python",
   "name": "python3"
  },
  "language_info": {
   "codemirror_mode": {
    "name": "ipython",
    "version": 3
   },
   "file_extension": ".py",
   "mimetype": "text/x-python",
   "name": "python",
   "nbconvert_exporter": "python",
   "pygments_lexer": "ipython3",
   "version": "3.7.4"
  }
 },
 "nbformat": 4,
 "nbformat_minor": 4
}
